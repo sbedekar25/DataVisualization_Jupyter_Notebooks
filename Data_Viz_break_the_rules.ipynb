{
 "cells": [
  {
   "cell_type": "code",
   "execution_count": 5,
   "metadata": {},
   "outputs": [
    {
     "data": {
      "image/png": "[encoded data removed]",
      "text/plain": [
       "<matplotlib.figure.Figure at 0x1f367a41ac8>"
      ]
     },
     "metadata": {
      "needs_background": "light"
     },
     "output_type": "display_data"
    }
   ],
   "source": [
    "import matplotlib.pyplot as plt\n",
    "import math\n",
    "values = [1,5,2,8,5,11,24,30,50]\n",
    "x = len(values)\n",
    "binsizes = math.sqrt(x)\n",
    "plt.hist(values, bins = int(binsizes))\n",
    "plt.show()\n"
   ]
  },
  {
   "cell_type": "code",
   "execution_count": 13,
   "metadata": {},
   "outputs": [
    {
     "name": "stdout",
     "output_type": "stream",
     "text": [
      "11 3\n"
     ]
    },
    {
     "data": {
      "image/png": "[encoded data removed]",
      "text/plain": [
       "<matplotlib.figure.Figure at 0x1f367b67128>"
      ]
     },
     "metadata": {
      "needs_background": "light"
     },
     "output_type": "display_data"
    }
   ],
   "source": [
    "#Break the sqrt method\n",
    "\n",
    "values1 = [1,5,2,8,5,11,24,30,50,100,150] #By just adding 100 and 150. though there are three bins we \n",
    "                                           #see one tall bin and one flat bin for a total of 2\n",
    "                                            #Square root method takes the square root of the number of data points in the sample\n",
    "                                           #If we are lucky like the above data in cell 1 then we might get the desired result\n",
    "                                            #But if the data is weird like the one below the we might not get the expected results\n",
    "y = len(values1)\n",
    "binsizes1 = math.sqrt(y)\n",
    "print(y,int(binsizes1))\n",
    "plt.hist(values1, bins = int(binsizes1))\n",
    "plt.show()"
   ]
  }
 ],
 "metadata": {
  "kernelspec": {
   "display_name": "Python 3",
   "language": "python",
   "name": "python3"
  },
  "language_info": {
   "codemirror_mode": {
    "name": "ipython",
    "version": 3
   },
   "file_extension": ".py",
   "mimetype": "text/x-python",
   "name": "python",
   "nbconvert_exporter": "python",
   "pygments_lexer": "ipython3",
   "version": "3.6.4"
  }
 },
 "nbformat": 4,
 "nbformat_minor": 2
}
